{
 "cells": [
  {
   "cell_type": "markdown",
   "id": "d688146b-45bd-4ada-b842-e566a7d56a5a",
   "metadata": {},
   "source": [
    "<div align=\"center\">\n",
    "  <img src=\"http://sct.inf.utfsm.cl/wp-content/uploads/2020/04/logo_di.png\" width=\"70%\" style=\"min-width: 300px; max-width: 600px;\">\n",
    "  <h1>INF396 - Introducción a la Ciencia de Datos</h1>\n",
    "  <h3 style=\"color: #555;\">Tarea #2</h3>\n",
    "  <p>\n",
    "    <strong>Alessandro Bruno Cintolesi Rodriguez</strong><br>\n",
    "    <em>202173541-0</em><br>\n",
    "    <em>alessandro.cintolesi@usm.cl</em>\n",
    "  </p>\n",
    "</div>\n",
    "\n",
    "<hr>"
   ]
  },
  {
   "cell_type": "code",
   "execution_count": null,
   "id": "231dd7d0-2306-4aa0-a3fd-c40dcbc6a950",
   "metadata": {},
   "outputs": [],
   "source": [
    "import h5py\n",
    "import pandas as pd\n",
    "import numpy as np\n",
    "import matplotlib.pyplot as plt\n",
    "import seaborn as sns\n",
    "from skimpy import skim"
   ]
  },
  {
   "cell_type": "code",
   "execution_count": null,
   "id": "f02f324f",
   "metadata": {},
   "outputs": [],
   "source": [
    "from statsmodels.graphics.tsaplots import plot_acf"
   ]
  },
  {
   "cell_type": "code",
   "execution_count": null,
   "id": "e6b88e01",
   "metadata": {},
   "outputs": [],
   "source": [
    "def generate_plot_acf(x, title, lags=40, markersize=6):\n",
    "\tsize = round(x.shape[0]*0.1)\n",
    "\ttemp = x[:size]\n",
    "\tdata = temp[~np.isnan(temp)]\n",
    "\tplot_acf(x=data, lags=lags, markersize=markersize, title=f\"ACF Plot {title}\")\n",
    "\tplt.show()\n",
    "\tplt.close()"
   ]
  },
  {
   "cell_type": "code",
   "execution_count": null,
   "id": "4a91ffb8",
   "metadata": {},
   "outputs": [],
   "source": [
    "def generate_violin_plot(x, title):\n",
    "\tdata = x[~np.isnan(x)]\n",
    "\tdf = pd.DataFrame({title: data})\n",
    "\n",
    "\tsns.violinplot(y=title, data=df)\n",
    "\tplt.title(f\"Violin Plot {title}\")\n",
    "\tplt.ylabel(\"Value\")\n",
    "\tplt.xlabel(\"\")\n",
    "\tplt.show()\n",
    "\tplt.close()"
   ]
  },
  {
   "cell_type": "markdown",
   "id": "2bf10f75-7227-4200-8bc5-cf670d3a7fda",
   "metadata": {},
   "source": [
    "# Load Datasets\n",
    "\n",
    "Pueden descargar el archivo desde este [link](https://usmcl-my.sharepoint.com/:f:/g/personal/camilo_nunezf_usm_cl/EjV-YI_uBatJh0gfB4pk6yIBNArCTaLq_MJOYtEcbId5rQ?e=U49wS9)."
   ]
  },
  {
   "cell_type": "code",
   "execution_count": null,
   "id": "c85110c2-b5ec-4c2d-acb4-4b5cd577c152",
   "metadata": {},
   "outputs": [],
   "source": [
    "def cargar_datasets_desde_h5(archivo_h5):\n",
    "    datasets = {}\n",
    "    with h5py.File(archivo_h5, \"r\") as f:\n",
    "        for grupo in f:\n",
    "            datasets[grupo] = {}\n",
    "            for key in f[grupo]:\n",
    "                datasets[grupo][key] = f[grupo][key][:]\n",
    "    return datasets\n",
    "\n",
    "datasets_train = cargar_datasets_desde_h5(\"datasets_train_651BDBFB.h5\")"
   ]
  },
  {
   "cell_type": "markdown",
   "id": "02b36dba-883a-404d-8bdf-7512958d4801",
   "metadata": {},
   "source": [
    "# Question 1"
   ]
  },
  {
   "cell_type": "code",
   "execution_count": null,
   "id": "6e3681c7-2a6b-4dbd-ae4b-1e1d63633307",
   "metadata": {},
   "outputs": [],
   "source": [
    "X_train = datasets_train['mercado_financiero']['X']\n",
    "y_train_reg = datasets_train['mercado_financiero']['y_reg']\n",
    "y_train_class = datasets_train['mercado_financiero']['y_class']"
   ]
  },
  {
   "cell_type": "code",
   "execution_count": null,
   "id": "e81aa05d",
   "metadata": {},
   "outputs": [],
   "source": [
    "skim(pd.DataFrame(X_train)) "
   ]
  },
  {
   "cell_type": "code",
   "execution_count": null,
   "id": "75b986eb",
   "metadata": {},
   "outputs": [],
   "source": [
    "for i in range(X_train.shape[1]):\n",
    "\tgenerate_violin_plot(x=X_train[:,i], title=f\"Feature {i+1}\")"
   ]
  },
  {
   "cell_type": "code",
   "execution_count": null,
   "id": "a4b730e2",
   "metadata": {},
   "outputs": [],
   "source": [
    "for i in range(X_train.shape[1]):\n",
    "\tgenerate_plot_acf(x=X_train[:,i], title=f\"Feature {i+1}\")\n",
    "generate_plot_acf(x=y_train_reg, title=\"Return\")"
   ]
  },
  {
   "cell_type": "markdown",
   "id": "6aebc86a-17be-4b7b-ac43-097f91b541ba",
   "metadata": {},
   "source": [
    "# Question 2"
   ]
  },
  {
   "cell_type": "code",
   "execution_count": null,
   "id": "de4c0e07-9b6f-4078-ab71-11227d4be074",
   "metadata": {},
   "outputs": [],
   "source": []
  },
  {
   "cell_type": "markdown",
   "id": "584c1b30-bb21-4685-a5b7-46efbba63cbf",
   "metadata": {},
   "source": [
    "# Question 3"
   ]
  },
  {
   "cell_type": "code",
   "execution_count": null,
   "id": "05268729-6c43-48a7-8fdd-afbe1484d5e4",
   "metadata": {},
   "outputs": [],
   "source": []
  },
  {
   "cell_type": "markdown",
   "id": "44ca608b-9003-4ac4-8ffd-971d1db8ff30",
   "metadata": {},
   "source": [
    "# Question 4"
   ]
  },
  {
   "cell_type": "code",
   "execution_count": null,
   "id": "ba5bfde1-2a49-4347-a844-ad867f420f69",
   "metadata": {},
   "outputs": [],
   "source": []
  },
  {
   "cell_type": "markdown",
   "id": "ceb08cbc-066c-462e-99d3-6141ac162bcc",
   "metadata": {},
   "source": [
    "# Question 5"
   ]
  },
  {
   "cell_type": "code",
   "execution_count": null,
   "id": "acb68ae2-a454-4aa0-8097-ec62a0f8b2f2",
   "metadata": {},
   "outputs": [],
   "source": []
  }
 ],
 "metadata": {
  "kernelspec": {
   "display_name": ".venv",
   "language": "python",
   "name": "python3"
  },
  "language_info": {
   "codemirror_mode": {
    "name": "ipython",
    "version": 3
   },
   "file_extension": ".py",
   "mimetype": "text/x-python",
   "name": "python",
   "nbconvert_exporter": "python",
   "pygments_lexer": "ipython3",
   "version": "3.13.3"
  }
 },
 "nbformat": 4,
 "nbformat_minor": 5
}

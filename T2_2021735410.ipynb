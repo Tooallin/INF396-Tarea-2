{
 "cells": [
  {
   "cell_type": "markdown",
   "id": "d688146b-45bd-4ada-b842-e566a7d56a5a",
   "metadata": {},
   "source": [
    "<div align=\"center\">\n",
    "  <img src=\"http://sct.inf.utfsm.cl/wp-content/uploads/2020/04/logo_di.png\" width=\"70%\" style=\"min-width: 300px; max-width: 600px;\">\n",
    "  <h1>INF396 - Introducción a la Ciencia de Datos</h1>\n",
    "  <h3 style=\"color: #555;\">Tarea #2</h3>\n",
    "  <p>\n",
    "    <strong>Alessandro Bruno Cintolesi Rodriguez</strong><br>\n",
    "    <em>202173541-0</em><br>\n",
    "    <em>alessandro.cintolesi@usm.cl</em>\n",
    "  </p>\n",
    "</div>\n",
    "\n",
    "<hr>"
   ]
  },
  {
   "cell_type": "code",
   "execution_count": null,
   "id": "231dd7d0-2306-4aa0-a3fd-c40dcbc6a950",
   "metadata": {},
   "outputs": [],
   "source": [
    "import h5py\n",
    "import pandas as pd\n",
    "import numpy as np\n",
    "import matplotlib.pyplot as plt\n",
    "import seaborn as sns\n",
    "from sklearn.linear_model import SGDRegressor, SGDClassifier\n",
    "from sklearn.preprocessing import StandardScaler, RobustScaler, FunctionTransformer\n",
    "from sklearn.impute import KNNImputer, SimpleImputer\n",
    "from sklearn.pipeline import Pipeline\n",
    "from sklearn.model_selection import KFold\n",
    "from sklearn.metrics import mean_squared_error\n",
    "from skimpy import skim\n",
    "from statsmodels.graphics.tsaplots import plot_acf"
   ]
  },
  {
   "cell_type": "code",
   "execution_count": null,
   "id": "c2c05cd0",
   "metadata": {},
   "outputs": [],
   "source": [
    "def kfold_cv(pipeline, x, y, n_splits=10):\n",
    "\tkf = KFold(n_splits=n_splits, shuffle=True, random_state=123)\n",
    "\tmse_list = []\n",
    "\n",
    "\tfor train_index, test_index in kf.split(x):\n",
    "\t\tx_train, x_test = x[train_index], x[test_index]\n",
    "\t\ty_train, y_test = y[train_index], y[test_index]\n",
    "\n",
    "\t\tpipeline.fit(x_train, y_train)\n",
    "\t\ty_pred = pipeline.predict(x_test)\n",
    "\n",
    "\t\tmse = mean_squared_error(y_test, y_pred)\n",
    "\t\tmse_list.append(mse)\n",
    "\n",
    "\tw = pipeline.named_steps['Model'].coef_\n",
    "\tb = pipeline.named_steps['Model'].intercept_\n",
    "\n",
    "\tavg_mse = np.mean(mse_list)\n",
    "\tprint(f\"Mean MSE (KFold) = {avg_mse:.10f}\")\n",
    "\tprint(f\"Weigths (w) = {w}\")\n",
    "\tprint(f\"Bias (b) = {b}\\n\")"
   ]
  },
  {
   "cell_type": "code",
   "execution_count": null,
   "id": "e6b88e01",
   "metadata": {},
   "outputs": [],
   "source": [
    "def generate_acf_plots(X, title=\"\", flag=True, perc=0.1, lags=40, markersize=6):\n",
    "\tif flag:\n",
    "\t\tfor i in range(X.shape[1]):\n",
    "\t\t\tx = X[:,i]\n",
    "\t\t\tsize = round(x.shape[0]*perc)\n",
    "\t\t\ttemp = x[:size]\n",
    "\t\t\tdata = temp[~np.isnan(temp)]\n",
    "\t\t\t\n",
    "\t\t\tplot_acf(x=data, lags=lags, markersize=markersize, title=f\"ACF Plot Feature {i+1}\")\n",
    "\t\t\tplt.show()\n",
    "\t\t\tplt.close()\n",
    "\telse:\n",
    "\t\tsize = round(X.shape[0]*perc)\n",
    "\t\ttemp = X[:size]\n",
    "\t\tdata = temp[~np.isnan(temp)]\n",
    "\n",
    "\t\tplot_acf(x=data, lags=lags, markersize=markersize, title=f\"ACF Plot {title}\")\n",
    "\t\tplt.show()\n",
    "\t\tplt.close()\n"
   ]
  },
  {
   "cell_type": "code",
   "execution_count": null,
   "id": "4a91ffb8",
   "metadata": {},
   "outputs": [],
   "source": [
    "def generate_violin_plots(X, title=\"\", flag=True):\n",
    "\tif flag:\n",
    "\t\tfor i in range(X.shape[1]):\n",
    "\t\t\ttitle = f\"Feature {i+1}\"\n",
    "\t\t\tx = X[:,i]\n",
    "\t\t\tdata = x[~np.isnan(x)]\n",
    "\t\t\tdf = pd.DataFrame({title: data})\n",
    "\n",
    "\t\t\tsns.violinplot(y=title, data=df)\n",
    "\t\t\tplt.title(f\"Violin Plot {title}\")\n",
    "\t\t\tplt.ylabel(\"Value\")\n",
    "\t\t\tplt.xlabel(\"\")\n",
    "\t\t\tplt.show()\n",
    "\t\t\tplt.close()\n",
    "\telse:\n",
    "\t\tx = X\n",
    "\t\tdata = x[~np.isnan(x)]\n",
    "\t\tdf = pd.DataFrame({title: data})\n",
    "\n",
    "\t\tsns.violinplot(y=title, data=df)\n",
    "\t\tplt.title(f\"Violin Plot {title}\")\n",
    "\t\tplt.ylabel(\"Value\")\n",
    "\t\tplt.xlabel(\"\")\n",
    "\t\tplt.show()\n",
    "\t\tplt.close()"
   ]
  },
  {
   "cell_type": "markdown",
   "id": "2bf10f75-7227-4200-8bc5-cf670d3a7fda",
   "metadata": {},
   "source": [
    "# Load Datasets\n",
    "\n",
    "Pueden descargar el archivo desde este [link](https://usmcl-my.sharepoint.com/:f:/g/personal/camilo_nunezf_usm_cl/EjV-YI_uBatJh0gfB4pk6yIBNArCTaLq_MJOYtEcbId5rQ?e=U49wS9)."
   ]
  },
  {
   "cell_type": "code",
   "execution_count": null,
   "id": "c85110c2-b5ec-4c2d-acb4-4b5cd577c152",
   "metadata": {},
   "outputs": [],
   "source": [
    "def cargar_datasets_desde_h5(archivo_h5):\n",
    "    datasets = {}\n",
    "    with h5py.File(archivo_h5, \"r\") as f:\n",
    "        for grupo in f:\n",
    "            print(f\"\\nDataSet: {grupo}\")\n",
    "            datasets[grupo] = {}\n",
    "            for key in f[grupo]:\n",
    "                print(f\" - Feature: {key}\")\n",
    "                datasets[grupo][key] = f[grupo][key][:]\n",
    "    return datasets\n",
    "\n",
    "datasets_train = cargar_datasets_desde_h5(\"datasets_train_651BDBFB.h5\")"
   ]
  },
  {
   "cell_type": "markdown",
   "id": "02b36dba-883a-404d-8bdf-7512958d4801",
   "metadata": {},
   "source": [
    "# Question 1"
   ]
  },
  {
   "cell_type": "code",
   "execution_count": null,
   "id": "6e3681c7-2a6b-4dbd-ae4b-1e1d63633307",
   "metadata": {},
   "outputs": [],
   "source": [
    "X_train = datasets_train['mercado_financiero']['X']\n",
    "y_train_reg = datasets_train['mercado_financiero']['y_reg']\n",
    "y_train_class = datasets_train['mercado_financiero']['y_class']"
   ]
  },
  {
   "cell_type": "code",
   "execution_count": null,
   "id": "e81aa05d",
   "metadata": {},
   "outputs": [],
   "source": [
    "skim(pd.DataFrame(X_train)) "
   ]
  },
  {
   "cell_type": "code",
   "execution_count": null,
   "id": "75b986eb",
   "metadata": {},
   "outputs": [],
   "source": [
    "generate_violin_plots(X=X_train)"
   ]
  },
  {
   "cell_type": "code",
   "execution_count": null,
   "id": "a4b730e2",
   "metadata": {},
   "outputs": [],
   "source": [
    "generate_acf_plots(X=X_train)\n",
    "generate_acf_plots(X=y_train_reg, title=\"Return Reg\", flag=False)\n",
    "generate_acf_plots(X=y_train_class, title=\"Return Class\", flag=False)"
   ]
  },
  {
   "cell_type": "code",
   "execution_count": null,
   "id": "b2a03561",
   "metadata": {},
   "outputs": [],
   "source": [
    "reg_pipeline_squared = Pipeline([\n",
    "\t('Imputation', KNNImputer()),\n",
    "\t('Scaler', StandardScaler()),\n",
    "\t('Model', SGDRegressor(loss=\"squared_error\"))\n",
    "])\n",
    "\n",
    "reg_pipeline_epsilon = Pipeline([\n",
    "\t('Imputation', KNNImputer()),\n",
    "\t('Scaler', StandardScaler()),\n",
    "\t('Model', SGDRegressor(loss=\"epsilon_insensitive\"))\n",
    "])\n",
    "\n",
    "reg_pipeline_huber = Pipeline([\n",
    "\t('Imputation', KNNImputer()),\n",
    "\t('Scaler', StandardScaler()),\n",
    "\t('Model', SGDRegressor(loss=\"huber\"))\n",
    "])"
   ]
  },
  {
   "cell_type": "code",
   "execution_count": null,
   "id": "a7f2ed28",
   "metadata": {},
   "outputs": [],
   "source": [
    "cls_pipeline_squared = Pipeline([\n",
    "\t('Imputation', KNNImputer()),\n",
    "\t('Scaler', StandardScaler()),\n",
    "\t('Model', SGDClassifier(loss=\"squared_error\"))\n",
    "])\n",
    "\n",
    "cls_pipeline_epsilon = Pipeline([\n",
    "\t('Imputation', KNNImputer()),\n",
    "\t('Scaler', StandardScaler()),\n",
    "\t('Model', SGDClassifier(loss=\"epsilon_insensitive\"))\n",
    "])\n",
    "\n",
    "cls_pipeline_huber = Pipeline([\n",
    "\t('Imputation', KNNImputer()),\n",
    "\t('Scaler', StandardScaler()),\n",
    "\t('Model', SGDClassifier(loss=\"huber\"))\n",
    "])"
   ]
  },
  {
   "cell_type": "code",
   "execution_count": null,
   "id": "99431d23",
   "metadata": {},
   "outputs": [],
   "source": [
    "kfold_cv(reg_pipeline_squared, X_train, y_train_reg)\n",
    "kfold_cv(reg_pipeline_epsilon, X_train, y_train_reg)\n",
    "kfold_cv(reg_pipeline_huber, X_train, y_train_reg)"
   ]
  },
  {
   "cell_type": "code",
   "execution_count": null,
   "id": "ddf0ab8c",
   "metadata": {},
   "outputs": [],
   "source": [
    "kfold_cv(cls_pipeline_squared, X_train, y_train_class)\n",
    "kfold_cv(cls_pipeline_epsilon, X_train, y_train_class)\n",
    "kfold_cv(cls_pipeline_huber, X_train, y_train_class)"
   ]
  },
  {
   "cell_type": "markdown",
   "id": "6aebc86a-17be-4b7b-ac43-097f91b541ba",
   "metadata": {},
   "source": [
    "# Question 2"
   ]
  },
  {
   "cell_type": "code",
   "execution_count": null,
   "id": "de4c0e07-9b6f-4078-ab71-11227d4be074",
   "metadata": {},
   "outputs": [],
   "source": [
    "X_train = datasets_train['decaimiento_radioactivo']['X']\n",
    "y_train = datasets_train['decaimiento_radioactivo']['y']"
   ]
  },
  {
   "cell_type": "code",
   "execution_count": null,
   "id": "110702df",
   "metadata": {},
   "outputs": [],
   "source": [
    "def IQR(X, y):\n",
    "\tQ1 = np.percentile(X, 25, axis=0)\n",
    "\tQ3 = np.percentile(X, 75, axis=0)\n",
    "\tIQR = Q3 - Q1\n",
    "\tlower_bound = Q1 - 1.5 * IQR\n",
    "\tupper_bound = Q3 + 1.5 * IQR\n",
    "\n",
    "\tmask = (X >= lower_bound) & (X <= upper_bound)\n",
    "\tvalid_rows = np.all(mask, axis=1)\n",
    "\n",
    "\treturn X[valid_rows], y[valid_rows]"
   ]
  },
  {
   "cell_type": "code",
   "execution_count": null,
   "id": "3a6386de",
   "metadata": {},
   "outputs": [],
   "source": [
    "q2_pipeline_SE_l2 = Pipeline([\n",
    "\t('Model', SGDRegressor(loss=\"squared_error\", penalty=\"l2\"))\n",
    "])\n",
    "q2_pipeline_SE_l1 = Pipeline([\n",
    "\t('Model', SGDRegressor(loss=\"squared_error\", penalty=\"l1\"))\n",
    "])\n",
    "q2_pipeline_H_l2 = Pipeline([\n",
    "\t('Model', SGDRegressor(loss=\"huber\", penalty=\"l2\"))\n",
    "])\n",
    "q2_pipeline_H_l1 = Pipeline([\n",
    "\t('Model', SGDRegressor(loss=\"huber\", penalty=\"l1\"))\n",
    "])"
   ]
  },
  {
   "cell_type": "code",
   "execution_count": null,
   "id": "e654e0f0",
   "metadata": {},
   "outputs": [],
   "source": [
    "skim(pd.DataFrame(X_train))"
   ]
  },
  {
   "cell_type": "code",
   "execution_count": null,
   "id": "11332cab",
   "metadata": {},
   "outputs": [],
   "source": [
    "generate_violin_plots(X=y_train, title=\"y\", flag=False)"
   ]
  },
  {
   "cell_type": "code",
   "execution_count": null,
   "id": "828f39df",
   "metadata": {},
   "outputs": [],
   "source": [
    "y_train_log = np.log1p(y_train)\n",
    "#generate_violin_plots(X=y_train_log, title=\"log(y)\", flag=False)"
   ]
  },
  {
   "cell_type": "code",
   "execution_count": null,
   "id": "31fe800a",
   "metadata": {},
   "outputs": [],
   "source": [
    "X_train_iqr, y_train_iqr = IQR(X=X_train, y=y_train)\n",
    "X_train_log_iqr, y_train_log_iqr = IQR(X=X_train, y=y_train_log)"
   ]
  },
  {
   "cell_type": "code",
   "execution_count": null,
   "id": "68da37bc",
   "metadata": {},
   "outputs": [],
   "source": [
    "kfold_cv(q2_pipeline_SE_l1, x=X_train, y=y_train)\n",
    "kfold_cv(q2_pipeline_SE_l1, x=X_train_iqr, y=y_train_iqr)"
   ]
  },
  {
   "cell_type": "code",
   "execution_count": null,
   "id": "80279bfb",
   "metadata": {},
   "outputs": [],
   "source": [
    "kfold_cv(q2_pipeline_SE_l2, x=X_train, y=y_train)\n",
    "kfold_cv(q2_pipeline_SE_l2, x=X_train_iqr, y=y_train_iqr)"
   ]
  },
  {
   "cell_type": "code",
   "execution_count": null,
   "id": "9cf259b6",
   "metadata": {},
   "outputs": [],
   "source": [
    "kfold_cv(q2_pipeline_H_l1, x=X_train, y=y_train)\n",
    "kfold_cv(q2_pipeline_H_l1, x=X_train_iqr, y=y_train_iqr)"
   ]
  },
  {
   "cell_type": "code",
   "execution_count": null,
   "id": "1699c3aa",
   "metadata": {},
   "outputs": [],
   "source": [
    "kfold_cv(q2_pipeline_H_l2, x=X_train, y=y_train)\n",
    "kfold_cv(q2_pipeline_H_l2, x=X_train_iqr, y=y_train_iqr)"
   ]
  },
  {
   "cell_type": "code",
   "execution_count": null,
   "id": "04eb3de6",
   "metadata": {},
   "outputs": [],
   "source": [
    "kfold_cv(q2_pipeline_SE_l1, x=X_train, y=y_train_log)\n",
    "kfold_cv(q2_pipeline_SE_l1, x=X_train_log_iqr, y=y_train_log_iqr)"
   ]
  },
  {
   "cell_type": "code",
   "execution_count": null,
   "id": "a105cff4",
   "metadata": {},
   "outputs": [],
   "source": [
    "kfold_cv(q2_pipeline_SE_l2, x=X_train, y=y_train_log)\n",
    "kfold_cv(q2_pipeline_SE_l2, x=X_train_log_iqr, y=y_train_log_iqr)"
   ]
  },
  {
   "cell_type": "code",
   "execution_count": null,
   "id": "cb6f26ff",
   "metadata": {},
   "outputs": [],
   "source": [
    "kfold_cv(q2_pipeline_H_l1, x=X_train, y=y_train_log)\n",
    "kfold_cv(q2_pipeline_H_l1, x=X_train_log_iqr, y=y_train_log_iqr)"
   ]
  },
  {
   "cell_type": "code",
   "execution_count": null,
   "id": "37c98a12",
   "metadata": {},
   "outputs": [],
   "source": [
    "kfold_cv(q2_pipeline_H_l2, x=X_train, y=y_train_log)\n",
    "kfold_cv(q2_pipeline_H_l2, x=X_train_log_iqr, y=y_train_log_iqr)"
   ]
  },
  {
   "cell_type": "markdown",
   "id": "584c1b30-bb21-4685-a5b7-46efbba63cbf",
   "metadata": {},
   "source": [
    "# Question 3"
   ]
  },
  {
   "cell_type": "code",
   "execution_count": null,
   "id": "05268729-6c43-48a7-8fdd-afbe1484d5e4",
   "metadata": {},
   "outputs": [],
   "source": [
    "X_train = datasets_train['dinamica_fluidos']['X']\n",
    "y_train = datasets_train['dinamica_fluidos']['y']"
   ]
  },
  {
   "cell_type": "code",
   "execution_count": null,
   "id": "349e4079",
   "metadata": {},
   "outputs": [],
   "source": [
    "skim(pd.DataFrame(X_train))"
   ]
  },
  {
   "cell_type": "markdown",
   "id": "44ca608b-9003-4ac4-8ffd-971d1db8ff30",
   "metadata": {},
   "source": [
    "# Question 4"
   ]
  },
  {
   "cell_type": "code",
   "execution_count": null,
   "id": "ba5bfde1-2a49-4347-a844-ad867f420f69",
   "metadata": {},
   "outputs": [],
   "source": [
    "X_train = datasets_train['fallas_maquinaria']['X']\n",
    "y_train = datasets_train['fallas_maquinaria']['y']"
   ]
  },
  {
   "cell_type": "code",
   "execution_count": null,
   "id": "2b18f1fc",
   "metadata": {},
   "outputs": [],
   "source": [
    "skim(pd.DataFrame(X_train))"
   ]
  },
  {
   "cell_type": "markdown",
   "id": "ceb08cbc-066c-462e-99d3-6141ac162bcc",
   "metadata": {},
   "source": [
    "# Question 5"
   ]
  },
  {
   "cell_type": "code",
   "execution_count": null,
   "id": "acb68ae2-a454-4aa0-8097-ec62a0f8b2f2",
   "metadata": {},
   "outputs": [],
   "source": [
    "X_train = datasets_train['fraude']['X']\n",
    "y_train = datasets_train['fraude']['y']"
   ]
  },
  {
   "cell_type": "code",
   "execution_count": null,
   "id": "5f7e4842",
   "metadata": {},
   "outputs": [],
   "source": [
    "skim(pd.DataFrame(X_train))"
   ]
  }
 ],
 "metadata": {
  "kernelspec": {
   "display_name": ".venv",
   "language": "python",
   "name": "python3"
  },
  "language_info": {
   "codemirror_mode": {
    "name": "ipython",
    "version": 3
   },
   "file_extension": ".py",
   "mimetype": "text/x-python",
   "name": "python",
   "nbconvert_exporter": "python",
   "pygments_lexer": "ipython3",
   "version": "3.13.3"
  }
 },
 "nbformat": 4,
 "nbformat_minor": 5
}
